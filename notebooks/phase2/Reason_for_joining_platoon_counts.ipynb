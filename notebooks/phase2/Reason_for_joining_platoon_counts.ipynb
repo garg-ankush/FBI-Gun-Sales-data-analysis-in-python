{
  "nbformat": 4,
  "nbformat_minor": 0,
  "metadata": {
    "colab": {
      "name": "Reason-for-joining-further-analysis-phase-1-and-2.ipynb",
      "provenance": [],
      "authorship_tag": "ABX9TyNOOUaU+aJtX5t1+GfxhbmC",
      "include_colab_link": true
    },
    "kernelspec": {
      "name": "python3",
      "display_name": "Python 3"
    },
    "language_info": {
      "name": "python"
    },
    "accelerator": "GPU"
  },
  "cells": [
    {
      "cell_type": "markdown",
      "metadata": {
        "id": "view-in-github",
        "colab_type": "text"
      },
      "source": [
        "<a href=\"https://colab.research.google.com/github/unkush-garg/FBI-Gun-Sales-data-analysis-in-python/blob/master/notebooks/phase2/Reason_for_joining_platoon_counts.ipynb\" target=\"_parent\"><img src=\"https://colab.research.google.com/assets/colab-badge.svg\" alt=\"Open In Colab\"/></a>"
      ]
    },
    {
      "cell_type": "code",
      "metadata": {
        "colab": {
          "base_uri": "https://localhost:8080/",
          "height": 1000
        },
        "id": "cVOq7ydcWJwz",
        "outputId": "98cc91d0-d93f-4e11-d1c1-dde1e5e01de0"
      },
      "source": [
        "!pip install bertopic\n",
        "!pip install fuzzywuzzy"
      ],
      "execution_count": 2,
      "outputs": [
        {
          "output_type": "stream",
          "text": [
            "Collecting bertopic\n",
            "  Downloading bertopic-0.9.0-py2.py3-none-any.whl (55 kB)\n",
            "\u001b[?25l\r\u001b[K     |█████▉                          | 10 kB 36.9 MB/s eta 0:00:01\r\u001b[K     |███████████▊                    | 20 kB 33.0 MB/s eta 0:00:01\r\u001b[K     |█████████████████▋              | 30 kB 19.1 MB/s eta 0:00:01\r\u001b[K     |███████████████████████▍        | 40 kB 15.9 MB/s eta 0:00:01\r\u001b[K     |█████████████████████████████▎  | 51 kB 8.5 MB/s eta 0:00:01\r\u001b[K     |████████████████████████████████| 55 kB 3.3 MB/s \n",
            "\u001b[?25hCollecting plotly<4.14.3,>=4.7.0\n",
            "  Downloading plotly-4.14.2-py2.py3-none-any.whl (13.2 MB)\n",
            "\u001b[K     |████████████████████████████████| 13.2 MB 8.4 MB/s \n",
            "\u001b[?25hRequirement already satisfied: pandas>=1.1.5 in /usr/local/lib/python3.7/dist-packages (from bertopic) (1.1.5)\n",
            "Collecting umap-learn>=0.5.0\n",
            "  Downloading umap-learn-0.5.1.tar.gz (80 kB)\n",
            "\u001b[K     |████████████████████████████████| 80 kB 12.1 MB/s \n",
            "\u001b[?25hRequirement already satisfied: tqdm>=4.41.1 in /usr/local/lib/python3.7/dist-packages (from bertopic) (4.62.0)\n",
            "Collecting numpy>=1.20.0\n",
            "  Downloading numpy-1.21.2-cp37-cp37m-manylinux_2_12_x86_64.manylinux2010_x86_64.whl (15.7 MB)\n",
            "\u001b[K     |████████████████████████████████| 15.7 MB 331 kB/s \n",
            "\u001b[?25hCollecting hdbscan>=0.8.27\n",
            "  Downloading hdbscan-0.8.27.tar.gz (6.4 MB)\n",
            "\u001b[K     |████████████████████████████████| 6.4 MB 32.3 MB/s \n",
            "\u001b[?25h  Installing build dependencies ... \u001b[?25l\u001b[?25hdone\n",
            "  Getting requirements to build wheel ... \u001b[?25l\u001b[?25hdone\n",
            "    Preparing wheel metadata ... \u001b[?25l\u001b[?25hdone\n",
            "Requirement already satisfied: scikit-learn>=0.22.2.post1 in /usr/local/lib/python3.7/dist-packages (from bertopic) (0.22.2.post1)\n",
            "Collecting sentence-transformers>=0.4.1\n",
            "  Downloading sentence-transformers-2.0.0.tar.gz (85 kB)\n",
            "\u001b[K     |████████████████████████████████| 85 kB 6.0 MB/s \n",
            "\u001b[?25hRequirement already satisfied: scipy>=1.0 in /usr/local/lib/python3.7/dist-packages (from hdbscan>=0.8.27->bertopic) (1.4.1)\n",
            "Requirement already satisfied: six in /usr/local/lib/python3.7/dist-packages (from hdbscan>=0.8.27->bertopic) (1.15.0)\n",
            "Requirement already satisfied: joblib>=1.0 in /usr/local/lib/python3.7/dist-packages (from hdbscan>=0.8.27->bertopic) (1.0.1)\n",
            "Requirement already satisfied: cython>=0.27 in /usr/local/lib/python3.7/dist-packages (from hdbscan>=0.8.27->bertopic) (0.29.24)\n",
            "Requirement already satisfied: python-dateutil>=2.7.3 in /usr/local/lib/python3.7/dist-packages (from pandas>=1.1.5->bertopic) (2.8.2)\n",
            "Requirement already satisfied: pytz>=2017.2 in /usr/local/lib/python3.7/dist-packages (from pandas>=1.1.5->bertopic) (2018.9)\n",
            "Requirement already satisfied: retrying>=1.3.3 in /usr/local/lib/python3.7/dist-packages (from plotly<4.14.3,>=4.7.0->bertopic) (1.3.3)\n",
            "Collecting transformers<5.0.0,>=4.6.0\n",
            "  Downloading transformers-4.9.2-py3-none-any.whl (2.6 MB)\n",
            "\u001b[K     |████████████████████████████████| 2.6 MB 53.0 MB/s \n",
            "\u001b[?25hRequirement already satisfied: torch>=1.6.0 in /usr/local/lib/python3.7/dist-packages (from sentence-transformers>=0.4.1->bertopic) (1.9.0+cu102)\n",
            "Requirement already satisfied: torchvision in /usr/local/lib/python3.7/dist-packages (from sentence-transformers>=0.4.1->bertopic) (0.10.0+cu102)\n",
            "Requirement already satisfied: nltk in /usr/local/lib/python3.7/dist-packages (from sentence-transformers>=0.4.1->bertopic) (3.2.5)\n",
            "Collecting sentencepiece\n",
            "  Downloading sentencepiece-0.1.96-cp37-cp37m-manylinux_2_17_x86_64.manylinux2014_x86_64.whl (1.2 MB)\n",
            "\u001b[K     |████████████████████████████████| 1.2 MB 32.1 MB/s \n",
            "\u001b[?25hCollecting huggingface-hub\n",
            "  Downloading huggingface_hub-0.0.15-py3-none-any.whl (43 kB)\n",
            "\u001b[K     |████████████████████████████████| 43 kB 1.8 MB/s \n",
            "\u001b[?25hRequirement already satisfied: typing-extensions in /usr/local/lib/python3.7/dist-packages (from torch>=1.6.0->sentence-transformers>=0.4.1->bertopic) (3.7.4.3)\n",
            "Requirement already satisfied: packaging in /usr/local/lib/python3.7/dist-packages (from transformers<5.0.0,>=4.6.0->sentence-transformers>=0.4.1->bertopic) (21.0)\n",
            "Collecting sacremoses\n",
            "  Downloading sacremoses-0.0.45-py3-none-any.whl (895 kB)\n",
            "\u001b[K     |████████████████████████████████| 895 kB 36.7 MB/s \n",
            "\u001b[?25hCollecting pyyaml>=5.1\n",
            "  Downloading PyYAML-5.4.1-cp37-cp37m-manylinux1_x86_64.whl (636 kB)\n",
            "\u001b[K     |████████████████████████████████| 636 kB 38.9 MB/s \n",
            "\u001b[?25hCollecting huggingface-hub\n",
            "  Downloading huggingface_hub-0.0.12-py3-none-any.whl (37 kB)\n",
            "Collecting tokenizers<0.11,>=0.10.1\n",
            "  Downloading tokenizers-0.10.3-cp37-cp37m-manylinux_2_5_x86_64.manylinux1_x86_64.manylinux_2_12_x86_64.manylinux2010_x86_64.whl (3.3 MB)\n",
            "\u001b[K     |████████████████████████████████| 3.3 MB 39.9 MB/s \n",
            "\u001b[?25hRequirement already satisfied: importlib-metadata in /usr/local/lib/python3.7/dist-packages (from transformers<5.0.0,>=4.6.0->sentence-transformers>=0.4.1->bertopic) (4.6.4)\n",
            "Requirement already satisfied: filelock in /usr/local/lib/python3.7/dist-packages (from transformers<5.0.0,>=4.6.0->sentence-transformers>=0.4.1->bertopic) (3.0.12)\n",
            "Requirement already satisfied: requests in /usr/local/lib/python3.7/dist-packages (from transformers<5.0.0,>=4.6.0->sentence-transformers>=0.4.1->bertopic) (2.23.0)\n",
            "Requirement already satisfied: regex!=2019.12.17 in /usr/local/lib/python3.7/dist-packages (from transformers<5.0.0,>=4.6.0->sentence-transformers>=0.4.1->bertopic) (2019.12.20)\n",
            "Requirement already satisfied: pyparsing>=2.0.2 in /usr/local/lib/python3.7/dist-packages (from packaging->transformers<5.0.0,>=4.6.0->sentence-transformers>=0.4.1->bertopic) (2.4.7)\n",
            "Requirement already satisfied: numba>=0.49 in /usr/local/lib/python3.7/dist-packages (from umap-learn>=0.5.0->bertopic) (0.51.2)\n",
            "Collecting pynndescent>=0.5\n",
            "  Downloading pynndescent-0.5.4.tar.gz (1.1 MB)\n",
            "\u001b[K     |████████████████████████████████| 1.1 MB 54.6 MB/s \n",
            "\u001b[?25hRequirement already satisfied: llvmlite<0.35,>=0.34.0.dev0 in /usr/local/lib/python3.7/dist-packages (from numba>=0.49->umap-learn>=0.5.0->bertopic) (0.34.0)\n",
            "Requirement already satisfied: setuptools in /usr/local/lib/python3.7/dist-packages (from numba>=0.49->umap-learn>=0.5.0->bertopic) (57.4.0)\n",
            "Requirement already satisfied: zipp>=0.5 in /usr/local/lib/python3.7/dist-packages (from importlib-metadata->transformers<5.0.0,>=4.6.0->sentence-transformers>=0.4.1->bertopic) (3.5.0)\n",
            "Requirement already satisfied: urllib3!=1.25.0,!=1.25.1,<1.26,>=1.21.1 in /usr/local/lib/python3.7/dist-packages (from requests->transformers<5.0.0,>=4.6.0->sentence-transformers>=0.4.1->bertopic) (1.24.3)\n",
            "Requirement already satisfied: certifi>=2017.4.17 in /usr/local/lib/python3.7/dist-packages (from requests->transformers<5.0.0,>=4.6.0->sentence-transformers>=0.4.1->bertopic) (2021.5.30)\n",
            "Requirement already satisfied: chardet<4,>=3.0.2 in /usr/local/lib/python3.7/dist-packages (from requests->transformers<5.0.0,>=4.6.0->sentence-transformers>=0.4.1->bertopic) (3.0.4)\n",
            "Requirement already satisfied: idna<3,>=2.5 in /usr/local/lib/python3.7/dist-packages (from requests->transformers<5.0.0,>=4.6.0->sentence-transformers>=0.4.1->bertopic) (2.10)\n",
            "Requirement already satisfied: click in /usr/local/lib/python3.7/dist-packages (from sacremoses->transformers<5.0.0,>=4.6.0->sentence-transformers>=0.4.1->bertopic) (7.1.2)\n",
            "Requirement already satisfied: pillow>=5.3.0 in /usr/local/lib/python3.7/dist-packages (from torchvision->sentence-transformers>=0.4.1->bertopic) (7.1.2)\n",
            "Building wheels for collected packages: hdbscan, sentence-transformers, umap-learn, pynndescent\n",
            "  Building wheel for hdbscan (PEP 517) ... \u001b[?25l\u001b[?25hdone\n",
            "  Created wheel for hdbscan: filename=hdbscan-0.8.27-cp37-cp37m-linux_x86_64.whl size=2311892 sha256=080d247570a66f62099f713a4e46e3ea66ad01fe2a1e80aaea0bd28bec4ac8b7\n",
            "  Stored in directory: /root/.cache/pip/wheels/73/5f/2f/9a259b84003b84847c259779206acecabb25ab56f1506ee72b\n",
            "  Building wheel for sentence-transformers (setup.py) ... \u001b[?25l\u001b[?25hdone\n",
            "  Created wheel for sentence-transformers: filename=sentence_transformers-2.0.0-py3-none-any.whl size=126710 sha256=9ecb68aa3e03ae2793c3268caf6c3fe74a9aea64c41397b0652e3e5af7fc51a4\n",
            "  Stored in directory: /root/.cache/pip/wheels/d1/c1/0f/faafd427f705c4b012274ba60d9a91d75830306811e1355293\n",
            "  Building wheel for umap-learn (setup.py) ... \u001b[?25l\u001b[?25hdone\n",
            "  Created wheel for umap-learn: filename=umap_learn-0.5.1-py3-none-any.whl size=76564 sha256=78d2789a9f0333ae8d2581ea4a14c6762f6a57dbe087ed485a063aa67927cc15\n",
            "  Stored in directory: /root/.cache/pip/wheels/01/e7/bb/347dc0e510803d7116a13d592b10cc68262da56a8eec4dd72f\n",
            "  Building wheel for pynndescent (setup.py) ... \u001b[?25l\u001b[?25hdone\n",
            "  Created wheel for pynndescent: filename=pynndescent-0.5.4-py3-none-any.whl size=52373 sha256=f475044db5557621dde06ed2fdfda71fcf3cf51b96d98acecefa9a1d89cdc95f\n",
            "  Stored in directory: /root/.cache/pip/wheels/d0/5b/62/3401692ddad12324249c774c4b15ccb046946021e2b581c043\n",
            "Successfully built hdbscan sentence-transformers umap-learn pynndescent\n",
            "Installing collected packages: numpy, tokenizers, sacremoses, pyyaml, huggingface-hub, transformers, sentencepiece, pynndescent, umap-learn, sentence-transformers, plotly, hdbscan, bertopic\n",
            "  Attempting uninstall: numpy\n",
            "    Found existing installation: numpy 1.19.5\n",
            "    Uninstalling numpy-1.19.5:\n",
            "      Successfully uninstalled numpy-1.19.5\n",
            "  Attempting uninstall: pyyaml\n",
            "    Found existing installation: PyYAML 3.13\n",
            "    Uninstalling PyYAML-3.13:\n",
            "      Successfully uninstalled PyYAML-3.13\n",
            "  Attempting uninstall: plotly\n",
            "    Found existing installation: plotly 4.4.1\n",
            "    Uninstalling plotly-4.4.1:\n",
            "      Successfully uninstalled plotly-4.4.1\n",
            "\u001b[31mERROR: pip's dependency resolver does not currently take into account all the packages that are installed. This behaviour is the source of the following dependency conflicts.\n",
            "tensorflow 2.6.0 requires numpy~=1.19.2, but you have numpy 1.21.2 which is incompatible.\n",
            "datascience 0.10.6 requires folium==0.2.1, but you have folium 0.8.3 which is incompatible.\n",
            "albumentations 0.1.12 requires imgaug<0.2.7,>=0.2.5, but you have imgaug 0.2.9 which is incompatible.\u001b[0m\n",
            "Successfully installed bertopic-0.9.0 hdbscan-0.8.27 huggingface-hub-0.0.12 numpy-1.21.2 plotly-4.14.2 pynndescent-0.5.4 pyyaml-5.4.1 sacremoses-0.0.45 sentence-transformers-2.0.0 sentencepiece-0.1.96 tokenizers-0.10.3 transformers-4.9.2 umap-learn-0.5.1\n"
          ],
          "name": "stdout"
        },
        {
          "output_type": "display_data",
          "data": {
            "application/vnd.colab-display-data+json": {
              "pip_warning": {
                "packages": [
                  "numpy"
                ]
              }
            }
          },
          "metadata": {}
        },
        {
          "output_type": "stream",
          "text": [
            "Collecting fuzzywuzzy\n",
            "  Downloading fuzzywuzzy-0.18.0-py2.py3-none-any.whl (18 kB)\n",
            "Installing collected packages: fuzzywuzzy\n",
            "Successfully installed fuzzywuzzy-0.18.0\n"
          ],
          "name": "stdout"
        }
      ]
    },
    {
      "cell_type": "code",
      "metadata": {
        "colab": {
          "base_uri": "https://localhost:8080/"
        },
        "id": "-51NBH7uWSO4",
        "outputId": "f0ac7712-094a-485a-9144-56384a413dcc"
      },
      "source": [
        "from google.colab import drive\n",
        "\n",
        "drive.mount('/content/drive',force_remount=True)"
      ],
      "execution_count": 4,
      "outputs": [
        {
          "output_type": "stream",
          "text": [
            "Mounted at /content/drive\n"
          ],
          "name": "stdout"
        }
      ]
    },
    {
      "cell_type": "code",
      "metadata": {
        "id": "o1gVvShKWUre"
      },
      "source": [
        "# Bert\n",
        "from bertopic import BERTopic\n",
        "import pandas as pd\n",
        "import numpy as np\n",
        "pd.set_option('display.max_columns', None)\n",
        "pd.set_option('display.max_rows', None)\n",
        "pd.set_option('display.max_colwidth', 0)"
      ],
      "execution_count": 14,
      "outputs": []
    },
    {
      "cell_type": "code",
      "metadata": {
        "id": "P2Ju11WBWwl4"
      },
      "source": [
        "phase_1_data = pd.read_csv('/content/drive/MyDrive/tradoc/datasets/report_1_data_clusters_with_data_that_Jeremy_rescued.csv')\n",
        "phase_1_data = phase_1_data.replace(np.nan, \"\")\n",
        "\n",
        "phase_2_data = pd.read_csv('/content/drive/MyDrive/tradoc/datasets/person_problem_with_problems_and_responses_session_2_with_platoon_etc_imputed.csv')\n",
        "phase_2_data = phase_2_data.replace(np.nan, \"\")\n",
        "\n",
        "model = BERTopic.load(\"/content/drive/MyDrive/tradoc/models/reason_to_join_model_3.pkl\")\n",
        "\n",
        "topics_df = pd.read_csv(\"/content/drive/MyDrive/tradoc/datasets/reason_to_join_topics_3.csv\")\n"
      ],
      "execution_count": 126,
      "outputs": []
    },
    {
      "cell_type": "code",
      "metadata": {
        "id": "vuX7k7ydXFFc"
      },
      "source": [
        "# Potential clusters and their descriptions\n",
        "reason_for_joining_mapper = {\n",
        "    0: \"career\",\n",
        "    1: \"had someone in the family\",\n",
        "    2: \"for family\",\n",
        "    3: \"n/a\",\n",
        "    4: \"money\",\n",
        "    5: \"serve the country\",\n",
        "    6: \"better future\",\n",
        "    7: \"did not want to go to college\",\n",
        "    8: \"educational benefits\",\n",
        "}"
      ],
      "execution_count": 127,
      "outputs": []
    },
    {
      "cell_type": "code",
      "metadata": {
        "id": "GiPa2athX-MV"
      },
      "source": [
        "topics_in_text = [reason_for_joining_mapper.get(topic) for topic in topics_df['cluster'].tolist()]\n",
        "\n",
        "phase_1_data['reason_for_joining_text'] = topics_in_text\n",
        "phase_1_data['reason_for_joining_cluster'] = topics_df['cluster']"
      ],
      "execution_count": 128,
      "outputs": []
    },
    {
      "cell_type": "code",
      "metadata": {
        "colab": {
          "base_uri": "https://localhost:8080/",
          "height": 310
        },
        "id": "OyAcR7ONX_xl",
        "outputId": "68ac222b-ea26-41b4-ac3c-1797f00f632c"
      },
      "source": [
        "import seaborn as sns\n",
        "import matplotlib.pyplot as plt\n",
        "phase_1_data['reason_for_joining_text'].value_counts().plot(kind='barh', color='grey', alpha=0.5)\n",
        "\n",
        "plt.xticks(rotation=80)"
      ],
      "execution_count": 129,
      "outputs": [
        {
          "output_type": "execute_result",
          "data": {
            "text/plain": [
              "(array([  0.,  20.,  40.,  60.,  80., 100., 120., 140., 160.]),\n",
              " <a list of 9 Text major ticklabel objects>)"
            ]
          },
          "metadata": {},
          "execution_count": 129
        },
        {
          "output_type": "display_data",
          "data": {
            "image/png": "[encoded data removed]",
            "text/plain": [
              "<Figure size 432x288 with 1 Axes>"
            ]
          },
          "metadata": {
            "needs_background": "light"
          }
        }
      ]
    },
    {
      "cell_type": "code",
      "metadata": {
        "id": "u-XDdBf_YBgr"
      },
      "source": [
        "topic_cluster_and_reason_for_joining_counts_df = phase_1_data.groupby(['cluster','reason_for_joining_text'], as_index=False)['mos'].count()\n"
      ],
      "execution_count": 173,
      "outputs": []
    },
    {
      "cell_type": "code",
      "metadata": {
        "id": "QPuPP0xKZune"
      },
      "source": [
        "# for a topic, list the original statements that are applicable\n",
        "\n",
        "def given_a_topic_list_original_statements(dataframe ,topic_number: int):\n",
        "   return dataframe[dataframe['reason_for_joining_cluster'] == topic_number]"
      ],
      "execution_count": 131,
      "outputs": []
    },
    {
      "cell_type": "code",
      "metadata": {
        "id": "qtMel8MkYIdb"
      },
      "source": [
        "# Analyze clusters and reason to join\n",
        "# Anything intersting between recruits who joined for better career prospects?\n",
        "\n",
        "career_as_a_reason_for_joining = given_a_topic_list_original_statements(phase_1_data, 0)"
      ],
      "execution_count": 132,
      "outputs": []
    },
    {
      "cell_type": "markdown",
      "metadata": {
        "id": "-WtJoglbd1b6"
      },
      "source": [
        "### Model phase 2"
      ]
    },
    {
      "cell_type": "code",
      "metadata": {
        "colab": {
          "base_uri": "https://localhost:8080/",
          "height": 295
        },
        "id": "aAcgWLGjd9Ym",
        "outputId": "84e78e72-74b3-4516-d83b-00c3fe5335fc"
      },
      "source": [
        "phase_2_data.sample(3)"
      ],
      "execution_count": 133,
      "outputs": [
        {
          "output_type": "execute_result",
          "data": {
            "text/html": [
              "<div>\n",
              "<style scoped>\n",
              "    .dataframe tbody tr th:only-of-type {\n",
              "        vertical-align: middle;\n",
              "    }\n",
              "\n",
              "    .dataframe tbody tr th {\n",
              "        vertical-align: top;\n",
              "    }\n",
              "\n",
              "    .dataframe thead th {\n",
              "        text-align: right;\n",
              "    }\n",
              "</style>\n",
              "<table border=\"1\" class=\"dataframe\">\n",
              "  <thead>\n",
              "    <tr style=\"text-align: right;\">\n",
              "      <th></th>\n",
              "      <th>person_id</th>\n",
              "      <th>platoon</th>\n",
              "      <th>mos</th>\n",
              "      <th>company</th>\n",
              "      <th>phone</th>\n",
              "      <th>name</th>\n",
              "      <th>home_town</th>\n",
              "      <th>birth_year</th>\n",
              "      <th>problem</th>\n",
              "      <th>background</th>\n",
              "      <th>title</th>\n",
              "      <th>basic_need</th>\n",
              "      <th>basic_need_detail</th>\n",
              "      <th>solution</th>\n",
              "      <th>solution_detail</th>\n",
              "      <th>reason_for_joining</th>\n",
              "    </tr>\n",
              "  </thead>\n",
              "  <tbody>\n",
              "    <tr>\n",
              "      <th>714</th>\n",
              "      <td>6050</td>\n",
              "      <td>1st Platoon</td>\n",
              "      <td>25 Bravo</td>\n",
              "      <td>Echo Company</td>\n",
              "      <td>17035684550</td>\n",
              "      <td></td>\n",
              "      <td></td>\n",
              "      <td>2003</td>\n",
              "      <td>Make the Jacob's tower not a requirement</td>\n",
              "      <td>That ladder is really scary and had me freaking out the whole time climbing</td>\n",
              "      <td>If youre scared of heights be careful about the Jacob's tower</td>\n",
              "      <td>Maybe to test how you do under pressure</td>\n",
              "      <td>Nothing really to fix except giving us a harness</td>\n",
              "      <td>Maybe fix the wood</td>\n",
              "      <td>Yknow, replace the wood with fresh ones so others don't get splinters</td>\n",
              "      <td></td>\n",
              "    </tr>\n",
              "    <tr>\n",
              "      <th>146</th>\n",
              "      <td>6317</td>\n",
              "      <td>3rd Platoon</td>\n",
              "      <td>15C</td>\n",
              "      <td>Alpha Company</td>\n",
              "      <td>14175225528</td>\n",
              "      <td>Toxey</td>\n",
              "      <td>Missouri</td>\n",
              "      <td>2003</td>\n",
              "      <td>Nothing</td>\n",
              "      <td>Not really</td>\n",
              "      <td>There is nothing to change</td>\n",
              "      <td>Idk since there's nothing to change</td>\n",
              "      <td>There ain't nothin</td>\n",
              "      <td>I wouldn't since it's fine</td>\n",
              "      <td>It just would</td>\n",
              "      <td>I wanted to become a pilot</td>\n",
              "    </tr>\n",
              "    <tr>\n",
              "      <th>619</th>\n",
              "      <td>6610</td>\n",
              "      <td>3rd Platoon</td>\n",
              "      <td>I decided on 91 bravo</td>\n",
              "      <td>Delta Company</td>\n",
              "      <td>12087921162</td>\n",
              "      <td></td>\n",
              "      <td></td>\n",
              "      <td>2002</td>\n",
              "      <td></td>\n",
              "      <td></td>\n",
              "      <td></td>\n",
              "      <td></td>\n",
              "      <td></td>\n",
              "      <td></td>\n",
              "      <td></td>\n",
              "      <td></td>\n",
              "    </tr>\n",
              "  </tbody>\n",
              "</table>\n",
              "</div>"
            ],
            "text/plain": [
              "     person_id      platoon                     mos        company  \\\n",
              "714  6050       1st Platoon  25 Bravo                Echo Company    \n",
              "146  6317       3rd Platoon  15C                     Alpha Company   \n",
              "619  6610       3rd Platoon  I decided on 91 bravo   Delta Company   \n",
              "\n",
              "           phone    name home_town birth_year  \\\n",
              "714  17035684550                    2003        \n",
              "146  14175225528  Toxey   Missouri  2003        \n",
              "619  12087921162                    2002        \n",
              "\n",
              "                                       problem  \\\n",
              "714  Make the Jacob's tower not a requirement    \n",
              "146  Nothing                                     \n",
              "619                                              \n",
              "\n",
              "                                                                      background  \\\n",
              "714  That ladder is really scary and had me freaking out the whole time climbing   \n",
              "146  Not really                                                                    \n",
              "619                                                                                \n",
              "\n",
              "                                                              title  \\\n",
              "714  If youre scared of heights be careful about the Jacob's tower    \n",
              "146  There is nothing to change                                       \n",
              "619                                                                   \n",
              "\n",
              "                                  basic_need  \\\n",
              "714  Maybe to test how you do under pressure   \n",
              "146  Idk since there's nothing to change       \n",
              "619                                            \n",
              "\n",
              "                                     basic_need_detail  \\\n",
              "714  Nothing really to fix except giving us a harness    \n",
              "146  There ain't nothin                                  \n",
              "619                                                      \n",
              "\n",
              "                       solution  \\\n",
              "714  Maybe fix the wood           \n",
              "146  I wouldn't since it's fine   \n",
              "619                               \n",
              "\n",
              "                                                           solution_detail  \\\n",
              "714  Yknow, replace the wood with fresh ones so others don't get splinters   \n",
              "146  It just would                                                           \n",
              "619                                                                          \n",
              "\n",
              "             reason_for_joining  \n",
              "714                              \n",
              "146  I wanted to become a pilot  \n",
              "619                              "
            ]
          },
          "metadata": {},
          "execution_count": 133
        }
      ]
    },
    {
      "cell_type": "code",
      "metadata": {
        "id": "NRsmAta2d39Q"
      },
      "source": [
        "phase_2_data['problems_and_background'] = phase_2_data['problem'] + \" \" + phase_2_data['background']\n",
        "\n",
        "docs = []\n",
        "columns = [\"problems_and_background\"]\n",
        "\n",
        "for column in columns:\n",
        "    column_to_list = phase_2_data[column].tolist()\n",
        "    column_to_list = [doc.lower().strip() for doc in column_to_list]\n",
        "    columns_to_list = [doc for doc in column_to_list if doc != '']\n",
        "    docs.extend(column_to_list)"
      ],
      "execution_count": 134,
      "outputs": []
    },
    {
      "cell_type": "code",
      "metadata": {
        "id": "AnN5zqHfeSx_"
      },
      "source": [
        "from sklearn.feature_extraction.text import CountVectorizer\n",
        "\n",
        "phase_2_model = BERTopic(\n",
        "    # top_n_words=5,\n",
        "    nr_topics=15,\n",
        "    # min_topic_size=15,\n",
        "    n_gram_range=(2, 5),\n",
        "    calculate_probabilities=True,\n",
        "    vectorizer_model=CountVectorizer(analyzer='word', ngram_range=(2, 5))\n",
        "    )\n",
        "\n",
        "phase_2_topics = phase_2_model.fit_transform(docs)\n",
        "\n"
      ],
      "execution_count": 89,
      "outputs": []
    },
    {
      "cell_type": "code",
      "metadata": {
        "id": "K5D6RJyUeqA-"
      },
      "source": [
        "phase_2_data['clusters'] = phase_2_topics[0]"
      ],
      "execution_count": 135,
      "outputs": []
    },
    {
      "cell_type": "code",
      "metadata": {
        "colab": {
          "base_uri": "https://localhost:8080/",
          "height": 383
        },
        "id": "ertEsh67fgTB",
        "outputId": "b190ce50-7910-4790-840d-94a5ef79c650"
      },
      "source": [
        "phase_2_data.sample(3)"
      ],
      "execution_count": 136,
      "outputs": [
        {
          "output_type": "execute_result",
          "data": {
            "text/html": [
              "<div>\n",
              "<style scoped>\n",
              "    .dataframe tbody tr th:only-of-type {\n",
              "        vertical-align: middle;\n",
              "    }\n",
              "\n",
              "    .dataframe tbody tr th {\n",
              "        vertical-align: top;\n",
              "    }\n",
              "\n",
              "    .dataframe thead th {\n",
              "        text-align: right;\n",
              "    }\n",
              "</style>\n",
              "<table border=\"1\" class=\"dataframe\">\n",
              "  <thead>\n",
              "    <tr style=\"text-align: right;\">\n",
              "      <th></th>\n",
              "      <th>person_id</th>\n",
              "      <th>platoon</th>\n",
              "      <th>mos</th>\n",
              "      <th>company</th>\n",
              "      <th>phone</th>\n",
              "      <th>name</th>\n",
              "      <th>home_town</th>\n",
              "      <th>birth_year</th>\n",
              "      <th>problem</th>\n",
              "      <th>background</th>\n",
              "      <th>title</th>\n",
              "      <th>basic_need</th>\n",
              "      <th>basic_need_detail</th>\n",
              "      <th>solution</th>\n",
              "      <th>solution_detail</th>\n",
              "      <th>reason_for_joining</th>\n",
              "      <th>problems_and_background</th>\n",
              "      <th>clusters</th>\n",
              "    </tr>\n",
              "  </thead>\n",
              "  <tbody>\n",
              "    <tr>\n",
              "      <th>1034</th>\n",
              "      <td>6185</td>\n",
              "      <td>2nd Platoon</td>\n",
              "      <td>91Bravo</td>\n",
              "      <td>Charlie Company</td>\n",
              "      <td>18083338025</td>\n",
              "      <td></td>\n",
              "      <td></td>\n",
              "      <td>2002</td>\n",
              "      <td></td>\n",
              "      <td></td>\n",
              "      <td></td>\n",
              "      <td></td>\n",
              "      <td></td>\n",
              "      <td></td>\n",
              "      <td></td>\n",
              "      <td></td>\n",
              "      <td></td>\n",
              "      <td>0</td>\n",
              "    </tr>\n",
              "    <tr>\n",
              "      <th>275</th>\n",
              "      <td>6662</td>\n",
              "      <td>4th Platoon</td>\n",
              "      <td>25 Quebec</td>\n",
              "      <td>Bravo Company</td>\n",
              "      <td>13862354239</td>\n",
              "      <td>Sweeny</td>\n",
              "      <td>Deland Florida</td>\n",
              "      <td>2002</td>\n",
              "      <td>Showers and intense training</td>\n",
              "      <td>The heat is very intense for some people</td>\n",
              "      <td>So much physical activity without enough recovery time is a lot</td>\n",
              "      <td>Not enough rest time</td>\n",
              "      <td>Stop pushing trainees to the point of injury</td>\n",
              "      <td>Allowing small breaks and for trainees to have cold drinking water</td>\n",
              "      <td>Helping keep trainees hydrated with colder drinking water will help regulate body temperature</td>\n",
              "      <td>Always wanted to</td>\n",
              "      <td>Showers and intense training  The heat is very intense for some people</td>\n",
              "      <td>-1</td>\n",
              "    </tr>\n",
              "    <tr>\n",
              "      <th>466</th>\n",
              "      <td>6596</td>\n",
              "      <td>2nd Platoon</td>\n",
              "      <td>15U</td>\n",
              "      <td>Delta Company</td>\n",
              "      <td>14847587269</td>\n",
              "      <td>Joshua Ayres</td>\n",
              "      <td>124 Mount Hope road Lincoln University PA</td>\n",
              "      <td>2002</td>\n",
              "      <td>Nothing</td>\n",
              "      <td>There's not much to change</td>\n",
              "      <td>Red phase is fine</td>\n",
              "      <td>Good things</td>\n",
              "      <td>There's nothing to fix</td>\n",
              "      <td>There isn't anything to fix</td>\n",
              "      <td>Do nothing</td>\n",
              "      <td>A good future/ career</td>\n",
              "      <td>Nothing  There's not much to change</td>\n",
              "      <td>-1</td>\n",
              "    </tr>\n",
              "  </tbody>\n",
              "</table>\n",
              "</div>"
            ],
            "text/plain": [
              "      person_id      platoon         mos          company        phone  \\\n",
              "1034  6185       2nd Platoon  91Bravo     Charlie Company  18083338025   \n",
              "275   6662       4th Platoon  25 Quebec   Bravo Company    13862354239   \n",
              "466   6596       2nd Platoon  15U         Delta Company    14847587269   \n",
              "\n",
              "              name                                   home_town birth_year  \\\n",
              "1034                                                            2002        \n",
              "275   Sweeny        Deland Florida                              2002        \n",
              "466   Joshua Ayres  124 Mount Hope road Lincoln University PA   2002        \n",
              "\n",
              "                            problem                                background  \\\n",
              "1034                                                                            \n",
              "275   Showers and intense training   The heat is very intense for some people   \n",
              "466   Nothing                        There's not much to change                 \n",
              "\n",
              "                                                                 title  \\\n",
              "1034                                                                     \n",
              "275   So much physical activity without enough recovery time is a lot    \n",
              "466   Red phase is fine                                                  \n",
              "\n",
              "                basic_need                              basic_need_detail  \\\n",
              "1034                                                                        \n",
              "275   Not enough rest time  Stop pushing trainees to the point of injury    \n",
              "466   Good things           There's nothing to fix                          \n",
              "\n",
              "                                                                solution  \\\n",
              "1034                                                                       \n",
              "275   Allowing small breaks and for trainees to have cold drinking water   \n",
              "466   There isn't anything to fix                                          \n",
              "\n",
              "                                                                                     solution_detail  \\\n",
              "1034                                                                                                   \n",
              "275   Helping keep trainees hydrated with colder drinking water will help regulate body temperature    \n",
              "466   Do nothing                                                                                       \n",
              "\n",
              "          reason_for_joining  \\\n",
              "1034                           \n",
              "275   Always wanted to         \n",
              "466   A good future/ career    \n",
              "\n",
              "                                                     problems_and_background  \\\n",
              "1034                                                                           \n",
              "275   Showers and intense training  The heat is very intense for some people   \n",
              "466   Nothing  There's not much to change                                      \n",
              "\n",
              "      clusters  \n",
              "1034  0         \n",
              "275  -1         \n",
              "466  -1         "
            ]
          },
          "metadata": {},
          "execution_count": 136
        }
      ]
    },
    {
      "cell_type": "code",
      "metadata": {
        "colab": {
          "base_uri": "https://localhost:8080/",
          "height": 530
        },
        "id": "gGrXFvbHj6Us",
        "outputId": "e42fdbe8-70ee-4d04-fc1b-eee8e59cbc5d"
      },
      "source": [
        "problem_topics_grouped = phase_2_data.groupby(['clusters','platoon'], as_index=False).count()[['clusters', 'platoon', 'mos']]\n",
        "problem_topics_grouped = problem_topics_grouped.replace('', np.NaN)\n",
        "problem_topics_grouped = problem_topics_grouped.dropna()\n",
        "\n",
        "\n",
        "fig, axes = plt.subplots(1, 1, figsize=(14, 8))\n",
        "sns.barplot(x=\"clusters\", \n",
        "            y=\"mos\", \n",
        "            hue=\"platoon\", \n",
        "            data=problem_topics_grouped, alpha=0.7)\n",
        "\n",
        "plt.title(\"Recruit counts (by platoon) by problem topics\")\n",
        "plt.ylabel(\"Topic Numbers\")\n",
        "plt.xlabel(\"Problem topics\")"
      ],
      "execution_count": 138,
      "outputs": [
        {
          "output_type": "execute_result",
          "data": {
            "text/plain": [
              "Text(0.5, 0, 'Problem topics')"
            ]
          },
          "metadata": {},
          "execution_count": 138
        },
        {
          "output_type": "display_data",
          "data": {
            "image/png": "[encoded data removed]",
            "text/plain": [
              "<Figure size 1008x576 with 1 Axes>"
            ]
          },
          "metadata": {
            "needs_background": "light"
          }
        }
      ]
    },
    {
      "cell_type": "code",
      "metadata": {
        "colab": {
          "base_uri": "https://localhost:8080/",
          "height": 530
        },
        "id": "4TWsmfvsnXpz",
        "outputId": "8059e795-6660-4111-d808-c07ba2888eda"
      },
      "source": [
        "problem_topics_grouped_by_company = phase_2_data.groupby(['clusters','company'], as_index=False).count()[['clusters', 'company', 'mos']]\n",
        "problem_topics_grouped_by_company = problem_topics_grouped_by_company.replace('', np.NaN)\n",
        "problem_topics_grouped_by_company = problem_topics_grouped_by_company.dropna()\n",
        "\n",
        "\n",
        "fig, axes = plt.subplots(1, 1, figsize=(14, 8))\n",
        "sns.barplot(x=\"clusters\", \n",
        "            y=\"mos\", \n",
        "            hue=\"company\", \n",
        "            data=problem_topics_grouped_by_company, alpha=0.7)\n",
        "\n",
        "plt.title(\"Recruit counts (by company) by problem topics\")\n",
        "plt.ylabel(\"Topic Numbers\")\n",
        "plt.xlabel(\"Problem topics\")"
      ],
      "execution_count": 141,
      "outputs": [
        {
          "output_type": "execute_result",
          "data": {
            "text/plain": [
              "Text(0.5, 0, 'Problem topics')"
            ]
          },
          "metadata": {},
          "execution_count": 141
        },
        {
          "output_type": "display_data",
          "data": {
            "image/png": "[encoded data removed]",
            "text/plain": [
              "<Figure size 1008x576 with 1 Axes>"
            ]
          },
          "metadata": {
            "needs_background": "light"
          }
        }
      ]
    },
    {
      "cell_type": "code",
      "metadata": {
        "id": "c6KrXM7TpT8J"
      },
      "source": [
        "cluster_number = 0\n",
        "\n",
        "platoon_counts_by_cluster = {}\n",
        "\n",
        "for cluster_number in phase_1_data['cluster'].unique():\n",
        "    platoon_counts = phase_1_data[phase_1_data['cluster'] == cluster_number]['platoon'].value_counts().to_json()\n",
        "    platoon_counts_by_cluster[\"cluster_number_\" + str(cluster_number)] = [platoon_counts]\n",
        "\n",
        "\n",
        "    platoon_counts_by_cluster[\"cluster_number_\" + str(cluster_number)].append({'total_number_of_people_in_the_cluster': len(phase_1_data[phase_1_data['cluster'] == cluster_number])})\n",
        "    platoon_counts_by_cluster[\"cluster_number_\" + str(cluster_number)].append({'total_number_of_people': phase_1_data.shape[0]})\n"
      ],
      "execution_count": 168,
      "outputs": []
    },
    {
      "cell_type": "code",
      "metadata": {
        "id": "mMdwX2XrxkZ1"
      },
      "source": [
        ""
      ],
      "execution_count": null,
      "outputs": []
    }
  ]
}